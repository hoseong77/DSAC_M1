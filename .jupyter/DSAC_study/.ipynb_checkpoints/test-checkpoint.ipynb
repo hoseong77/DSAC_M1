{
 "cells": [
  {
   "cell_type": "markdown",
   "id": "c5eeff2e",
   "metadata": {},
   "source": [
    "## Scikit-learn(sklearn)\n",
    "널리 사용되는, Machine learning 관련 Python 라이브러리 및 모듈 중 하나이다.\n",
    "\n",
    "실제 Python 코드에서 sklearn 이름으로 라이브러리를 import하기 때문에, 줄여서 “sklearn”이라고도 부른다.\n",
    "\n",
    "다양한 Machine learning 알고리즘들을 포함하고 있다.\n",
    "\n",
    "선형 회귀Linear Regression\n",
    "\n",
    "결정 트리Decision Tree\n",
    "\n",
    "랜덤 포레스트Random Forest 등\n"
   ]
  },
  {
   "cell_type": "markdown",
   "id": "a2015943",
   "metadata": {},
   "source": [
    "### 시각화   \n",
    "이상치, 평균치, 중간값, 사분위값, IQR(Inter Quartile Range) 등을 함께 보여주는것은 boxplot 그래프\n"
   ]
  },
  {
   "cell_type": "code",
   "execution_count": 47,
   "id": "d38ee74f",
   "metadata": {},
   "outputs": [],
   "source": [
    "import numpy as np\n",
    "import matplotlib.pyplot as plt\n",
    "import pandas as pd\n",
    "from pandas import DataFrame, Series\n",
    "from numpy.random import randn\n",
    "%matplotlib inline\n",
    "%config InlineBackend.figure_format = 'retina'\n"
   ]
  },
  {
   "cell_type": "code",
   "execution_count": 48,
   "id": "c2f13366",
   "metadata": {},
   "outputs": [
    {
     "data": {
      "text/plain": [
       "3"
      ]
     },
     "execution_count": 48,
     "metadata": {},
     "output_type": "execute_result"
    }
   ],
   "source": [
    "data = {1,2,3,4,5}\n",
    "avg = int(sum(data)/len(data))\n",
    "avg"
   ]
  },
  {
   "cell_type": "code",
   "execution_count": 49,
   "id": "d217f46f",
   "metadata": {},
   "outputs": [
    {
     "name": "stdout",
     "output_type": "stream",
     "text": [
      "<class 'dict'>\n"
     ]
    }
   ],
   "source": [
    "dic = {\"city\":[\"서울\",\"부산\",\"대전\",\"대구\",\"광주\"],     # dictionary\n",
    "       \"year\":[2017,2017,2018,2018,2018],\n",
    "      \"temp\":[18,20,19,21,20]}\n",
    "data = pd.DataFrame(dic)\n",
    "data\n",
    "print(type(dic))"
   ]
  },
  {
   "cell_type": "code",
   "execution_count": 50,
   "id": "722cacca",
   "metadata": {},
   "outputs": [
    {
     "data": {
      "text/html": [
       "<div>\n",
       "<style scoped>\n",
       "    .dataframe tbody tr th:only-of-type {\n",
       "        vertical-align: middle;\n",
       "    }\n",
       "\n",
       "    .dataframe tbody tr th {\n",
       "        vertical-align: top;\n",
       "    }\n",
       "\n",
       "    .dataframe thead th {\n",
       "        text-align: right;\n",
       "    }\n",
       "</style>\n",
       "<table border=\"1\" class=\"dataframe\">\n",
       "  <thead>\n",
       "    <tr style=\"text-align: right;\">\n",
       "      <th></th>\n",
       "      <th>city</th>\n",
       "      <th>year</th>\n",
       "      <th>temp</th>\n",
       "      <th>car</th>\n",
       "    </tr>\n",
       "  </thead>\n",
       "  <tbody>\n",
       "    <tr>\n",
       "      <th>0</th>\n",
       "      <td>서울</td>\n",
       "      <td>2017</td>\n",
       "      <td>18</td>\n",
       "      <td>50</td>\n",
       "    </tr>\n",
       "    <tr>\n",
       "      <th>1</th>\n",
       "      <td>부산</td>\n",
       "      <td>2017</td>\n",
       "      <td>20</td>\n",
       "      <td>40</td>\n",
       "    </tr>\n",
       "    <tr>\n",
       "      <th>2</th>\n",
       "      <td>대전</td>\n",
       "      <td>2018</td>\n",
       "      <td>19</td>\n",
       "      <td>20</td>\n",
       "    </tr>\n",
       "    <tr>\n",
       "      <th>3</th>\n",
       "      <td>대구</td>\n",
       "      <td>2018</td>\n",
       "      <td>21</td>\n",
       "      <td>30</td>\n",
       "    </tr>\n",
       "    <tr>\n",
       "      <th>4</th>\n",
       "      <td>광주</td>\n",
       "      <td>2018</td>\n",
       "      <td>20</td>\n",
       "      <td>10</td>\n",
       "    </tr>\n",
       "  </tbody>\n",
       "</table>\n",
       "</div>"
      ],
      "text/plain": [
       "  city  year  temp  car\n",
       "0   서울  2017    18   50\n",
       "1   부산  2017    20   40\n",
       "2   대전  2018    19   20\n",
       "3   대구  2018    21   30\n",
       "4   광주  2018    20   10"
      ]
     },
     "execution_count": 50,
     "metadata": {},
     "output_type": "execute_result"
    }
   ],
   "source": [
    "cars = [50,40,20,30,10]\n",
    "data[\"car\"]= cars\n",
    "data"
   ]
  },
  {
   "cell_type": "code",
   "execution_count": 51,
   "id": "00b6d580",
   "metadata": {},
   "outputs": [
    {
     "data": {
      "text/plain": [
       "temp\n",
       "20    2\n",
       "18    1\n",
       "19    1\n",
       "21    1\n",
       "dtype: int64"
      ]
     },
     "execution_count": 51,
     "metadata": {},
     "output_type": "execute_result"
    }
   ],
   "source": [
    "data.value_counts(\"temp\") #데이터 프레임의 특정열에 대해 빈도수 #value_counts"
   ]
  },
  {
   "cell_type": "code",
   "execution_count": 52,
   "id": "22efbed7",
   "metadata": {},
   "outputs": [
    {
     "name": "stderr",
     "output_type": "stream",
     "text": [
      "C:\\Users\\JooN\\AppData\\Local\\Temp/ipykernel_2744/4245886648.py:1: FutureWarning: In a future version of pandas all arguments of DataFrame.drop except for the argument 'labels' will be keyword-only\n",
      "  data.drop(\"car\",1) # 삭제 #drop\n"
     ]
    },
    {
     "data": {
      "text/html": [
       "<div>\n",
       "<style scoped>\n",
       "    .dataframe tbody tr th:only-of-type {\n",
       "        vertical-align: middle;\n",
       "    }\n",
       "\n",
       "    .dataframe tbody tr th {\n",
       "        vertical-align: top;\n",
       "    }\n",
       "\n",
       "    .dataframe thead th {\n",
       "        text-align: right;\n",
       "    }\n",
       "</style>\n",
       "<table border=\"1\" class=\"dataframe\">\n",
       "  <thead>\n",
       "    <tr style=\"text-align: right;\">\n",
       "      <th></th>\n",
       "      <th>city</th>\n",
       "      <th>year</th>\n",
       "      <th>temp</th>\n",
       "    </tr>\n",
       "  </thead>\n",
       "  <tbody>\n",
       "    <tr>\n",
       "      <th>0</th>\n",
       "      <td>서울</td>\n",
       "      <td>2017</td>\n",
       "      <td>18</td>\n",
       "    </tr>\n",
       "    <tr>\n",
       "      <th>1</th>\n",
       "      <td>부산</td>\n",
       "      <td>2017</td>\n",
       "      <td>20</td>\n",
       "    </tr>\n",
       "    <tr>\n",
       "      <th>2</th>\n",
       "      <td>대전</td>\n",
       "      <td>2018</td>\n",
       "      <td>19</td>\n",
       "    </tr>\n",
       "    <tr>\n",
       "      <th>3</th>\n",
       "      <td>대구</td>\n",
       "      <td>2018</td>\n",
       "      <td>21</td>\n",
       "    </tr>\n",
       "    <tr>\n",
       "      <th>4</th>\n",
       "      <td>광주</td>\n",
       "      <td>2018</td>\n",
       "      <td>20</td>\n",
       "    </tr>\n",
       "  </tbody>\n",
       "</table>\n",
       "</div>"
      ],
      "text/plain": [
       "  city  year  temp\n",
       "0   서울  2017    18\n",
       "1   부산  2017    20\n",
       "2   대전  2018    19\n",
       "3   대구  2018    21\n",
       "4   광주  2018    20"
      ]
     },
     "execution_count": 52,
     "metadata": {},
     "output_type": "execute_result"
    }
   ],
   "source": [
    "data.drop(\"car\",1) # 삭제 #drop"
   ]
  },
  {
   "cell_type": "code",
   "execution_count": 55,
   "id": "49b8a9f9",
   "metadata": {},
   "outputs": [
    {
     "data": {
      "text/plain": [
       "0    18\n",
       "1    20\n",
       "2    19\n",
       "3    21\n",
       "4    20\n",
       "Name: temp, dtype: int64"
      ]
     },
     "execution_count": 55,
     "metadata": {},
     "output_type": "execute_result"
    }
   ],
   "source": [
    "data.iloc[:,2]"
   ]
  },
  {
   "cell_type": "code",
   "execution_count": 59,
   "id": "df246c72",
   "metadata": {},
   "outputs": [
    {
     "name": "stdout",
     "output_type": "stream",
     "text": [
      "{'banana': 'Delicious', 'dirt': 'Do not eat.'}\n",
      "Delicious\n"
     ]
    }
   ],
   "source": [
    "food = {'banana': 'Delicious', 'dirt': 'Do not eat.'}\n",
    "print(food)\n",
    "print(food[\"banana\"]) #딕셔너리값"
   ]
  },
  {
   "cell_type": "markdown",
   "id": "9dd5b1d7",
   "metadata": {},
   "source": [
    "from pandas "
   ]
  },
  {
   "cell_type": "code",
   "execution_count": null,
   "id": "8d16a22d",
   "metadata": {},
   "outputs": [],
   "source": [
    "num = 23\n",
    "if num % 2==0:\n",
    "    print(\"짝수\")\n",
    "else:\n",
    "    print(\"홀수\")"
   ]
  }
 ],
 "metadata": {
  "kernelspec": {
   "display_name": "Python 3 (ipykernel)",
   "language": "python",
   "name": "python3"
  },
  "language_info": {
   "codemirror_mode": {
    "name": "ipython",
    "version": 3
   },
   "file_extension": ".py",
   "mimetype": "text/x-python",
   "name": "python",
   "nbconvert_exporter": "python",
   "pygments_lexer": "ipython3",
   "version": "3.9.7"
  }
 },
 "nbformat": 4,
 "nbformat_minor": 5
}
