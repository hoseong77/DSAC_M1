{
 "cells": [
  {
   "cell_type": "markdown",
   "id": "a5db8e7c",
   "metadata": {},
   "source": [
    "# 주피터 노트북\n",
    "## 주피터 노트북\n",
    "### 주피터 노트북\n",
    "#### 주피터 노트북"
   ]
  },
  {
   "cell_type": "code",
   "execution_count": 1,
   "id": "f85a6a16",
   "metadata": {},
   "outputs": [
    {
     "data": {
      "text/plain": [
       "8"
      ]
     },
     "execution_count": 1,
     "metadata": {},
     "output_type": "execute_result"
    }
   ],
   "source": [
    "3+5"
   ]
  },
  {
   "cell_type": "code",
   "execution_count": 2,
   "id": "4a6d8126",
   "metadata": {},
   "outputs": [
    {
     "data": {
      "text/plain": [
       "2.0"
      ]
     },
     "execution_count": 2,
     "metadata": {},
     "output_type": "execute_result"
    }
   ],
   "source": [
    "10/5"
   ]
  },
  {
   "cell_type": "code",
   "execution_count": 3,
   "id": "2898c0e6",
   "metadata": {},
   "outputs": [
    {
     "name": "stdout",
     "output_type": "stream",
     "text": [
      "안녕하세요\n"
     ]
    }
   ],
   "source": [
    "print(\"안녕하세요\")"
   ]
  },
  {
   "cell_type": "markdown",
   "id": "dfe96512",
   "metadata": {},
   "source": [
    "고려대학교  \n",
    "마크다운에서도 enter를 눌러도 줄이 바뀌지 않는다.  \n",
    "html에서는  \n",
    "태그를 이용해서 줄바꿈을 사용할 수 있는데, 마크다운에서는 간단하게 스페이스바(띄어쓰기) 두번을 하고 enter를 누르면 줄을 바꿀 수 있다."
   ]
  },
  {
   "cell_type": "markdown",
   "id": "8534102b",
   "metadata": {},
   "source": [
    "글머리 기호를 쓴후 내용을 쓸때 띄어쓰기 해야함  \n",
    "띄어쓰기를 하지 않고, 붙여 쓰게 되면 글머리 기호를 그대로 인식해 기호가 나타나게 된다.  \n",
    "\n",
    "1. 첫번째  \n",
    "2.두번째  \n",
    "3.세번째  \n",
    "  \n",
    "+ 첫번째  \n",
    "+ 두번째  \n",
    "+ 세번째  \n",
    "  \n",
    "+ 첫번째\n",
    "    + 두번째\n",
    "        + 세번째  \n",
    "        \n",
    "*기울어진 글씨*\n",
    "_기울어진 글씨_  \n",
    "\n",
    "**굵은글씨**  \n",
    "\n",
    "굵은글씨\n",
    "--   \n",
    "\n",
    "~~줄그어진글씨~~  \n",
    "\n",
    "~~줄그어진글씨~~\n",
    "-- "
   ]
  },
  {
   "attachments": {
    "urbanbrush-20210216111736321415-548x581.jpg": {
     "image/jpeg": "[encoded data removed]"
    }
   },
   "cell_type": "markdown",
   "id": "0fbffac0",
   "metadata": {},
   "source": [
    "![urbanbrush-20210216111736321415-548x581.jpg](attachment:urbanbrush-20210216111736321415-548x581.jpg)"
   ]
  },
  {
   "cell_type": "code",
   "execution_count": 4,
   "id": "5c16050e",
   "metadata": {
    "scrolled": false
   },
   "outputs": [
    {
     "name": "stdout",
     "output_type": "stream",
     "text": [
      "Requirement already satisfied: IPython in c:\\users\\joon\\anaconda3\\lib\\site-packages (7.29.0)\n",
      "Requirement already satisfied: decorator in c:\\users\\joon\\anaconda3\\lib\\site-packages (from IPython) (5.1.0)\n",
      "Requirement already satisfied: jedi>=0.16 in c:\\users\\joon\\anaconda3\\lib\\site-packages (from IPython) (0.18.0)\n",
      "Requirement already satisfied: colorama in c:\\users\\joon\\anaconda3\\lib\\site-packages (from IPython) (0.4.4)\n",
      "Requirement already satisfied: traitlets>=4.2 in c:\\users\\joon\\anaconda3\\lib\\site-packages (from IPython) (5.1.0)\n",
      "Requirement already satisfied: pickleshare in c:\\users\\joon\\anaconda3\\lib\\site-packages (from IPython) (0.7.5)\n",
      "Requirement already satisfied: prompt-toolkit!=3.0.0,!=3.0.1,<3.1.0,>=2.0.0 in c:\\users\\joon\\anaconda3\\lib\\site-packages (from IPython) (3.0.20)\n",
      "Requirement already satisfied: pygments in c:\\users\\joon\\anaconda3\\lib\\site-packages (from IPython) (2.10.0)\n",
      "Requirement already satisfied: matplotlib-inline in c:\\users\\joon\\anaconda3\\lib\\site-packages (from IPython) (0.1.2)\n",
      "Requirement already satisfied: setuptools>=18.5 in c:\\users\\joon\\anaconda3\\lib\\site-packages (from IPython) (58.0.4)\n",
      "Requirement already satisfied: backcall in c:\\users\\joon\\anaconda3\\lib\\site-packages (from IPython) (0.2.0)\n",
      "Requirement already satisfied: parso<0.9.0,>=0.8.0 in c:\\users\\joon\\anaconda3\\lib\\site-packages (from jedi>=0.16->IPython) (0.8.2)\n",
      "Requirement already satisfied: wcwidth in c:\\users\\joon\\anaconda3\\lib\\site-packages (from prompt-toolkit!=3.0.0,!=3.0.1,<3.1.0,>=2.0.0->IPython) (0.2.5)\n"
     ]
    }
   ],
   "source": [
    "!pip install IPython"
   ]
  },
  {
   "cell_type": "markdown",
   "id": "47b26353",
   "metadata": {},
   "source": [
    "### 리스트\n",
    "- 여러 항목의 집합체로 각 항목의 타입은 서로 달라도 된다.\n",
    "- 리스트를 만들려면 대괄호 [ ]를 사용하고 각 항목을 ','로 구분한다\n"
   ]
  },
  {
   "cell_type": "code",
   "execution_count": 12,
   "id": "5956ceb3",
   "metadata": {},
   "outputs": [],
   "source": [
    "items = [1,2,3,100,\"kim\"]\n",
    "items_2 = [112,123,124]"
   ]
  },
  {
   "cell_type": "code",
   "execution_count": 15,
   "id": "baf7a86b",
   "metadata": {},
   "outputs": [
    {
     "name": "stdout",
     "output_type": "stream",
     "text": [
      "[1, 2, 3, 100, 'kim', 112, 123, 124]\n",
      "[1, 2, 3, 100, 'kim', 1, 2, 3, 100, 'kim']\n"
     ]
    }
   ],
   "source": [
    "print(items + items_2)\n",
    "print(items * 2)"
   ]
  },
  {
   "cell_type": "code",
   "execution_count": 22,
   "id": "769ccbb8",
   "metadata": {},
   "outputs": [],
   "source": [
    "items.append(\"park\")\n",
    "items.remove(1)"
   ]
  },
  {
   "cell_type": "code",
   "execution_count": 19,
   "id": "b6e826fa",
   "metadata": {},
   "outputs": [],
   "source": [
    "items[2]=10000"
   ]
  },
  {
   "cell_type": "code",
   "execution_count": 23,
   "id": "665a6304",
   "metadata": {},
   "outputs": [
    {
     "data": {
      "text/plain": [
       "[2, 10000, 100, 'kim', 'park', 'park']"
      ]
     },
     "execution_count": 23,
     "metadata": {},
     "output_type": "execute_result"
    }
   ],
   "source": [
    "items"
   ]
  },
  {
   "cell_type": "markdown",
   "id": "d656b8ae",
   "metadata": {},
   "source": [
    "### 튜플 \n",
    "\n",
    "튜플을 만들려면 소괄호( )를 사용하여 만들거나 , 로 구분하여 나열한다.\n",
    "\n",
    "튜플은 원소 변경 불가능\n"
   ]
  },
  {
   "cell_type": "code",
   "execution_count": 10,
   "id": "8bff1e31",
   "metadata": {},
   "outputs": [
    {
     "name": "stdout",
     "output_type": "stream",
     "text": [
      "(1, 2, 3, 4, 5, 'hello')\n"
     ]
    }
   ],
   "source": [
    "tu1 = (1,2,3)\n",
    "tu2 = (4,5,\"hello\")\n",
    "print(tu1+tu2)"
   ]
  },
  {
   "cell_type": "code",
   "execution_count": 16,
   "id": "33baf271",
   "metadata": {},
   "outputs": [
    {
     "data": {
      "text/plain": [
       "(4, 5)"
      ]
     },
     "execution_count": 16,
     "metadata": {},
     "output_type": "execute_result"
    }
   ],
   "source": [
    "tu2[:2]"
   ]
  },
  {
   "cell_type": "code",
   "execution_count": 17,
   "id": "a40f7566",
   "metadata": {},
   "outputs": [
    {
     "data": {
      "text/plain": [
       "2"
      ]
     },
     "execution_count": 17,
     "metadata": {},
     "output_type": "execute_result"
    }
   ],
   "source": [
    "tu1[-2]"
   ]
  },
  {
   "cell_type": "code",
   "execution_count": 21,
   "id": "5fd77b3c",
   "metadata": {},
   "outputs": [
    {
     "ename": "TypeError",
     "evalue": "'tuple' object does not support item assignment",
     "output_type": "error",
     "traceback": [
      "\u001b[1;31m---------------------------------------------------------------------------\u001b[0m",
      "\u001b[1;31mTypeError\u001b[0m                                 Traceback (most recent call last)",
      "\u001b[1;32m~\\AppData\\Local\\Temp/ipykernel_24460/2689878567.py\u001b[0m in \u001b[0;36m<module>\u001b[1;34m\u001b[0m\n\u001b[1;32m----> 1\u001b[1;33m \u001b[0mtu1\u001b[0m\u001b[1;33m[\u001b[0m\u001b[1;36m2\u001b[0m\u001b[1;33m]\u001b[0m \u001b[1;33m=\u001b[0m \u001b[1;36m100\u001b[0m\u001b[1;33m\u001b[0m\u001b[1;33m\u001b[0m\u001b[0m\n\u001b[0m",
      "\u001b[1;31mTypeError\u001b[0m: 'tuple' object does not support item assignment"
     ]
    }
   ],
   "source": [
    "tu1[2] = 100"
   ]
  },
  {
   "cell_type": "markdown",
   "id": "91e210ee",
   "metadata": {},
   "source": [
    "### 사전 (Dictionaries)\n",
    "- 딕셔너리로 키-값 조합 형태의 리스트를 만들 수 있다. \n",
    "- 딕셔너리에서는 항목을 찾을 때 키를 사용한다\n",
    "- 딕셔너너리에서 저장된 순서는 중요시하지 않는다.\n",
    "- 딕셔너리는 중괄호 {  } 로 만든다.\n"
   ]
  },
  {
   "cell_type": "code",
   "execution_count": 25,
   "id": "e170ced7",
   "metadata": {},
   "outputs": [
    {
     "name": "stdout",
     "output_type": "stream",
     "text": [
      "{'grade': 3, 'age': 21, 'name': 'kim'}\n"
     ]
    }
   ],
   "source": [
    "my_dict = {\"grade\":3,\"age\":21,\"name\":\"kim\"}\n",
    "print(my_dict)"
   ]
  },
  {
   "cell_type": "code",
   "execution_count": 27,
   "id": "af2ac068",
   "metadata": {},
   "outputs": [
    {
     "name": "stdout",
     "output_type": "stream",
     "text": [
      "dict_keys(['grade', 'age', 'name'])\n",
      "dict_values([3, 21, 'kim'])\n",
      "dict_items([('grade', 3), ('age', 21), ('name', 'kim')])\n"
     ]
    }
   ],
   "source": [
    "print(my_dict.keys())\n",
    "print(my_dict.values())\n",
    "print(my_dict.items())"
   ]
  },
  {
   "cell_type": "code",
   "execution_count": 29,
   "id": "bc8bfc03",
   "metadata": {},
   "outputs": [
    {
     "data": {
      "text/plain": [
       "3"
      ]
     },
     "execution_count": 29,
     "metadata": {},
     "output_type": "execute_result"
    }
   ],
   "source": [
    "my_dict[\"grade\"]"
   ]
  },
  {
   "cell_type": "code",
   "execution_count": 33,
   "id": "3c3b5d26",
   "metadata": {},
   "outputs": [
    {
     "name": "stdout",
     "output_type": "stream",
     "text": [
      "{'grade': 3, 'age': 21, 'name': 'kim', 'address': 'seoul'}\n",
      "{'grade': 3, 'age': 21, 'name': 'kim', 'address': 'jeju'}\n"
     ]
    }
   ],
   "source": [
    "my_dict[\"age\"]\n",
    "my_dict[\"address\"]=\"seoul\"\n",
    "\n",
    "print(my_dict)\n",
    "\n",
    "my_dict[\"address\"]=\"jeju\"\n",
    "\n",
    "print(my_dict)"
   ]
  },
  {
   "cell_type": "markdown",
   "id": "e8fff568",
   "metadata": {},
   "source": [
    "### range\n",
    "\n",
    "- 일정한 범위의 숫자로 구성된 리스트를 한번에 만드는 함수\n",
    "-  range(시작값 , 끝값+1 , 증감값)\n"
   ]
  },
  {
   "cell_type": "code",
   "execution_count": 35,
   "id": "3e55efd5",
   "metadata": {},
   "outputs": [
    {
     "name": "stdout",
     "output_type": "stream",
     "text": [
      "1 `s square = 1\n",
      "3 `s square = 9\n",
      "5 `s square = 25\n",
      "7 `s square = 49\n",
      "9 `s square = 81\n",
      "11 `s square = 121\n",
      "13 `s square = 169\n",
      "15 `s square = 225\n",
      "17 `s square = 289\n",
      "19 `s square = 361\n"
     ]
    }
   ],
   "source": [
    "for i in range(1, 21, 2):\n",
    "    print(i, \"`s square =\", i*i)\n"
   ]
  },
  {
   "cell_type": "markdown",
   "id": "96b40294",
   "metadata": {},
   "source": [
    "## 함수(function)\n",
    "\n",
    "특정 기능을 하는 것을 함수  def   문장 끝에 return\n"
   ]
  },
  {
   "cell_type": "code",
   "execution_count": 36,
   "id": "faac0ac4",
   "metadata": {},
   "outputs": [
    {
     "data": {
      "text/plain": [
       "10"
      ]
     },
     "execution_count": 36,
     "metadata": {},
     "output_type": "execute_result"
    }
   ],
   "source": [
    "def double(x):\n",
    "    return x*2\n",
    "\n",
    "double(5)"
   ]
  },
  {
   "cell_type": "code",
   "execution_count": 38,
   "id": "184cdb88",
   "metadata": {},
   "outputs": [
    {
     "name": "stdout",
     "output_type": "stream",
     "text": [
      "안녕하세요\n"
     ]
    }
   ],
   "source": [
    "def greet():   #프로시저\n",
    "    print(\"안녕하세요\")\n",
    "    \n",
    "greet()"
   ]
  },
  {
   "cell_type": "code",
   "execution_count": 39,
   "id": "d01d8670",
   "metadata": {},
   "outputs": [
    {
     "data": {
      "text/plain": [
       "200"
      ]
     },
     "execution_count": 39,
     "metadata": {},
     "output_type": "execute_result"
    }
   ],
   "source": [
    "def double(x = 100):\n",
    "    return x*2\n",
    "\n",
    "double()"
   ]
  },
  {
   "cell_type": "code",
   "execution_count": 49,
   "id": "b207a0c9",
   "metadata": {},
   "outputs": [
    {
     "name": "stdout",
     "output_type": "stream",
     "text": [
      "8 12\n"
     ]
    }
   ],
   "source": [
    "def double_tripple(x):\n",
    "    return x*2, x*3\n",
    "\n",
    "#x = double_tripple(4)\n",
    "#y = double_tripple(4)\n",
    "\n",
    "x,y = double_tripple(4)\n",
    "\n",
    "print(x,y)"
   ]
  },
  {
   "cell_type": "code",
   "execution_count": 139,
   "id": "720a037c",
   "metadata": {},
   "outputs": [
    {
     "name": "stdout",
     "output_type": "stream",
     "text": [
      "40 "
     ]
    }
   ],
   "source": [
    "import random\n",
    "for i in range(1,6,1):\n",
    "    x = random.randint(1,45)\n",
    "print(x,end = \" \")"
   ]
  },
  {
   "cell_type": "markdown",
   "id": "f314d064",
   "metadata": {},
   "source": [
    "### numpy\n",
    "- n 차원 배열 (ndarray)\n",
    "\n",
    "-Numpy”는 “Numerical Python”의 줄임말로, Python의 산술 계산에 매우 유용한 라이브러리 및 모듈이다.\n",
    "\n",
    "-반복문을 미사용 배열 연산, 다른 차원 배열끼리의 연산 등\n",
    "\n",
    "-ndarray 타입 데이터의 * 연산은 각 요소에 * 뒤의 숫자를 곱하라는 의미이다\n",
    "\n",
    "-리스트와 달리 배열에서 각 항목은 모두 같은 타입\n"
   ]
  },
  {
   "cell_type": "code",
   "execution_count": 50,
   "id": "5b25518f",
   "metadata": {},
   "outputs": [
    {
     "name": "stdout",
     "output_type": "stream",
     "text": [
      "Requirement already satisfied: numpy in c:\\users\\joon\\anaconda3\\lib\\site-packages (1.20.3)\n"
     ]
    }
   ],
   "source": [
    "!pip install numpy"
   ]
  },
  {
   "cell_type": "code",
   "execution_count": 140,
   "id": "2cac1eae",
   "metadata": {},
   "outputs": [
    {
     "data": {
      "text/plain": [
       "array([0.82967907, 0.09445207, 0.90653109])"
      ]
     },
     "execution_count": 140,
     "metadata": {},
     "output_type": "execute_result"
    }
   ],
   "source": [
    "import numpy as np\n",
    "np.random.rand(3)    #0~1사이의 난수 3개"
   ]
  },
  {
   "cell_type": "code",
   "execution_count": 149,
   "id": "df3999b5",
   "metadata": {},
   "outputs": [
    {
     "data": {
      "text/plain": [
       "array([-0.83362832, -0.62859583,  0.3796483 ])"
      ]
     },
     "execution_count": 149,
     "metadata": {},
     "output_type": "execute_result"
    }
   ],
   "source": [
    "import numpy as np\n",
    "np.random.randn(3)    #표준정규분포"
   ]
  },
  {
   "cell_type": "code",
   "execution_count": 1,
   "id": "fbabd70d",
   "metadata": {},
   "outputs": [
    {
     "data": {
      "text/plain": [
       "array([ 7,  5, 34, 39, 40,  4])"
      ]
     },
     "execution_count": 1,
     "metadata": {},
     "output_type": "execute_result"
    }
   ],
   "source": [
    "import numpy as np\n",
    "np.random.randint(1,45,size = 6)    #정수 6개 1~44까지"
   ]
  },
  {
   "cell_type": "markdown",
   "id": "64138e2c",
   "metadata": {},
   "source": [
    "## Matplotlib\n",
    "시각화 라이브러리\n"
   ]
  },
  {
   "cell_type": "code",
   "execution_count": 171,
   "id": "a4baa857",
   "metadata": {},
   "outputs": [
    {
     "name": "stdout",
     "output_type": "stream",
     "text": [
      "Requirement already satisfied: matplotlib in c:\\users\\joon\\anaconda3\\lib\\site-packages (3.4.3)\n",
      "Requirement already satisfied: numpy>=1.16 in c:\\users\\joon\\anaconda3\\lib\\site-packages (from matplotlib) (1.20.3)\n",
      "Requirement already satisfied: pillow>=6.2.0 in c:\\users\\joon\\anaconda3\\lib\\site-packages (from matplotlib) (8.4.0)\n",
      "Requirement already satisfied: pyparsing>=2.2.1 in c:\\users\\joon\\anaconda3\\lib\\site-packages (from matplotlib) (3.0.4)\n",
      "Requirement already satisfied: python-dateutil>=2.7 in c:\\users\\joon\\anaconda3\\lib\\site-packages (from matplotlib) (2.8.2)\n",
      "Requirement already satisfied: cycler>=0.10 in c:\\users\\joon\\anaconda3\\lib\\site-packages (from matplotlib) (0.10.0)\n",
      "Requirement already satisfied: kiwisolver>=1.0.1 in c:\\users\\joon\\anaconda3\\lib\\site-packages (from matplotlib) (1.3.1)\n",
      "Requirement already satisfied: six in c:\\users\\joon\\anaconda3\\lib\\site-packages (from cycler>=0.10->matplotlib) (1.16.0)\n"
     ]
    }
   ],
   "source": [
    "!pip install matplotlib"
   ]
  },
  {
   "cell_type": "code",
   "execution_count": 176,
   "id": "fc80fca0",
   "metadata": {},
   "outputs": [
    {
     "data": {
      "text/plain": [
       "'Intel64 Family 6 Model 158 Stepping 10, GenuineIntel'"
      ]
     },
     "execution_count": 176,
     "metadata": {},
     "output_type": "execute_result"
    }
   ],
   "source": [
    "import platform\n",
    "platform.machine()\n",
    "platform.processor()"
   ]
  },
  {
   "cell_type": "code",
   "execution_count": 179,
   "id": "240a6b4c",
   "metadata": {},
   "outputs": [],
   "source": [
    "import numpy as py\n",
    "\n",
    "import platform\n",
    "from matplotlib import font_manager, rc \n",
    "import matplotlib\n",
    "# '-' 부호가 제대로 표시되게 하는 설정 \n",
    "matplotlib.rcParams['axes.unicode_minus'] = False\n",
    "# 운영 체제마다 한글이 보이게 하는 설정 # 윈도우\n",
    "if platform.system() == 'Windows':\n",
    "    path = \"c:\\Windows\\Fonts\\malgun.ttf\"\n",
    "    font_name = font_manager.FontProperties(fname=path).get_name() \n",
    "    rc('font', family=font_name)\n",
    "#맥\n",
    "elif platform.system() == 'Darwin': \n",
    "    rc('font', family='AppleGothic')\n",
    "# 리눅스\n",
    "elif platform.system() == 'Linux':\n",
    "    rc('font', family='NanumBarunGothic')\n"
   ]
  },
  {
   "cell_type": "markdown",
   "id": "0968d405",
   "metadata": {},
   "source": [
    "https://matplotlib.org/stable/api/markers_api.html   마커\n"
   ]
  },
  {
   "cell_type": "code",
   "execution_count": 239,
   "id": "5d1e533b",
   "metadata": {
    "scrolled": true
   },
   "outputs": [
    {
     "name": "stdout",
     "output_type": "stream",
     "text": [
      "[ 0.96783483 -1.25351079  0.17691875 -0.06376461  0.8350987  -1.00380773\n",
      " -0.45684625 -0.65326022 -1.70325204  0.46561038]\n"
     ]
    },
    {
     "data": {
      "text/plain": [
       "Text(0, 0.5, '랜덤값')"
      ]
     },
     "execution_count": 239,
     "metadata": {},
     "output_type": "execute_result"
    },
    {
     "data": {
      "image/png": "[encoded data removed]",
      "text/plain": [
       "<Figure size 432x288 with 1 Axes>"
      ]
     },
     "metadata": {
      "needs_background": "light"
     },
     "output_type": "display_data"
    }
   ],
   "source": [
    "import numpy as np\n",
    "import matplotlib.pyplot as plt\n",
    "%matplotlib inline   \n",
    "#notebook을 실행한 브라우저에서 바로 그림을 볼 수 있게 해주는 것\n",
    "\n",
    "n = 10\n",
    "y = np.random.randn(n)\n",
    "print(y)\n",
    "plt.plot(range(n),y,marker = \"p\")\n",
    "plt.xlabel('시간')\n",
    "plt.ylabel(\"랜덤값\")"
   ]
  },
  {
   "cell_type": "code",
   "execution_count": 243,
   "id": "d1901536",
   "metadata": {},
   "outputs": [
    {
     "data": {
      "text/plain": [
       "<matplotlib.collections.PathCollection at 0x17d3e4b0a00>"
      ]
     },
     "execution_count": 243,
     "metadata": {},
     "output_type": "execute_result"
    },
    {
     "data": {
      "image/png": "[encoded data removed]",
      "text/plain": [
       "<Figure size 432x288 with 1 Axes>"
      ]
     },
     "metadata": {
      "needs_background": "light"
     },
     "output_type": "display_data"
    }
   ],
   "source": [
    "import numpy as np\n",
    "import matplotlib.pyplot as plt\n",
    "%matplotlib inline\n",
    "\n",
    "x = range(0,100,1)\n",
    "y1 = np.random.rand(100)\n",
    "y2 = np.random.randn(100)\n",
    "\n",
    "plt.scatter(x,y1,c=\"red\",s=30,marker=\"p\")\n",
    "plt.scatter(x,y2,c=\"orange\",s=30,marker=\"x\")"
   ]
  },
  {
   "cell_type": "code",
   "execution_count": 251,
   "id": "cc08f4c7",
   "metadata": {},
   "outputs": [
    {
     "data": {
      "image/png": "[encoded data removed]",
      "text/plain": [
       "<Figure size 432x288 with 1 Axes>"
      ]
     },
     "metadata": {
      "needs_background": "light"
     },
     "output_type": "display_data"
    }
   ],
   "source": [
    "import numpy as np\n",
    "import matplotlib.pyplot as plt\n",
    "%matplotlib inline\n",
    "\n",
    "x = np.random.randint(1,7,1000)\n",
    "plt.hist(x,bins=1000,width = 0.3)\n",
    "plt.show()"
   ]
  },
  {
   "cell_type": "code",
   "execution_count": 281,
   "id": "9c181def",
   "metadata": {},
   "outputs": [
    {
     "data": {
      "image/png": "[encoded data removed]",
      "text/plain": [
       "<Figure size 432x288 with 1 Axes>"
      ]
     },
     "metadata": {
      "needs_background": "light"
     },
     "output_type": "display_data"
    }
   ],
   "source": [
    "z=0\n",
    "n=32\n",
    "for i in range(n):\n",
    "    x = np.random.randint(1,7,10000)\n",
    "    z = z+x\n",
    "plt.hist(z, bins= n*5+1, width = 0.6)\n",
    "plt.show()"
   ]
  },
  {
   "cell_type": "markdown",
   "id": "8b7acd23",
   "metadata": {},
   "source": [
    "### 몬테카를로 분석\n",
    "random 숫자 발생을 이용하여 원주율 pi를 시뮬레이션을 구하는 방법  \n",
    "원의 면적: pi * r ** 2\n",
    "\n",
    "pi=4*(random한 점이 원내부에 들어올 활률)\n"
   ]
  }
 ],
 "metadata": {
  "kernelspec": {
   "display_name": "Python 3 (ipykernel)",
   "language": "python",
   "name": "python3"
  },
  "language_info": {
   "codemirror_mode": {
    "name": "ipython",
    "version": 3
   },
   "file_extension": ".py",
   "mimetype": "text/x-python",
   "name": "python",
   "nbconvert_exporter": "python",
   "pygments_lexer": "ipython3",
   "version": "3.9.7"
  }
 },
 "nbformat": 4,
 "nbformat_minor": 5
}
